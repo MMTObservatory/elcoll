{
 "cells": [
  {
   "cell_type": "code",
   "execution_count": 1,
   "metadata": {},
   "outputs": [],
   "source": [
    "import os\n",
    "import sys\n",
    "import numpy as np\n",
    "import ipympl\n",
    "import matplotlib\n",
    "import matplotlib.pyplot as plt\n",
    "\n",
    "import astropy.units as u\n",
    "from astropy.io import fits\n",
    "from astropy.table import Table\n",
    "\n",
    "from mmtwfs.wfs import *\n",
    "from mmtwfs.zernike import ZernikeVector\n",
    "from mmtwfs.telescope import MMT\n",
    "\n",
    "from camsrv.header import HEADER_MAP\n",
    "\n",
    "from pathlib import Path"
   ]
  },
  {
   "cell_type": "code",
   "execution_count": 2,
   "metadata": {},
   "outputs": [],
   "source": [
    "def get_header_info(keylist, fitsfile):\n",
    "    info = []\n",
    "    h = fits.open(fitsfile)\n",
    "    hdr = h[0].header\n",
    "    for k in keylist:\n",
    "        if k in hdr:\n",
    "            info.append(hdr[k])\n",
    "        else:\n",
    "            print(k)\n",
    "            info.append(None)\n",
    "    h.close()\n",
    "    return info\n",
    "\n",
    "# model coefficients are taken from latest settings.xml on hacksaw\n",
    "def f5_model(key, el, t_oss):\n",
    "    model = {}\n",
    "    sin_el = np.sin(el * u.deg)\n",
    "    cos_el = np.cos(el * u.deg)\n",
    "    model['TRANSX'] = 787.7 - 507.6 * sin_el - 947.2 * cos_el + 0.0 * t_oss\n",
    "    model['TRANSY'] = 1780.0 - 135.8 * sin_el + 1538.0 * cos_el + 0.0 * t_oss\n",
    "    model['TRANSZ'] = 13608.5 + 671.1 * sin_el - 286.7 * cos_el - 13.1 * t_oss\n",
    "    model['TILTX'] = 236.7 - 66.1 * sin_el + 119.6 * cos_el + 0.0 * t_oss\n",
    "    model['TILTY'] = 70.5 + 20.5 * sin_el + 72.0 * cos_el + 0.0 * t_oss\n",
    "    return model[key]\n",
    "\n",
    "def bino_model(key, el, t_oss):\n",
    "    model = {}\n",
    "    sin_el = np.sin(el * u.deg)\n",
    "    cos_el = np.cos(el * u.deg)\n",
    "    model['TRANSX'] = 787.7 - 507.6 * sin_el - 947.2 * cos_el + 0.0 * t_oss\n",
    "    model['TRANSY'] = 1780.0 - 135.8 * sin_el + 1538.0 * cos_el + 0.0 * t_oss\n",
    "    model['TRANSZ'] = 13608.5 + 671.1 * sin_el - 286.7 * cos_el - 13.1 * t_oss\n",
    "    model['TILTX'] = 236.7 - 66.1 * sin_el + 119.6 * cos_el + 0.0 * t_oss\n",
    "    model['TILTY'] = 70.5 + 20.5 * sin_el + 72.0 * cos_el + 0.0 * t_oss\n",
    "    return model[key]\n",
    "\n",
    "def f9_model(key, el, t_oss):\n",
    "    model = {}\n",
    "    sin_el = np.sin(el * u.deg)\n",
    "    cos_el = np.cos(el * u.deg)\n",
    "    model['TRANSX'] = 2097.8 - 628.2 * sin_el - 1147.6 * cos_el + 0.0 * t_oss\n",
    "    model['TRANSY'] = -919.7 + 199.7 * sin_el + 1046.9 * cos_el + 0.0 * t_oss\n",
    "    model['TRANSZ'] = 293.4 + 725.2 * sin_el + 81.3 * cos_el - 46.7 * t_oss\n",
    "    model['TILTX'] = 78.5 - 45.8 * sin_el + 48.3 * cos_el + 0.0 * t_oss\n",
    "    model['TILTY'] = -83.3 + 56.6 * sin_el + 157.4 * cos_el + 0.0 * t_oss\n",
    "    return model[key]\n",
    "\n",
    "M2_KEYS = ['TRANSX', 'TILTY', 'TRANSY', 'TILTX', 'TRANSZ']\n",
    "\n",
    "# plot the M2 position data in six panels. up/down motion is comprised of a combination of TRANSY and TILTX while\n",
    "# left/right motion is comprised of TRANSX and -TILTY. for zero-coma pointing shifts, the ratio of trans/tilt is 9.45 um/arcsec\n",
    "# for F/5 and 5.86 um/arcsec for F/9. the left column is the data and the right column is the data with the current model\n",
    "# subtracted.\n",
    "\n",
    "def plot_m2(t, xaxis='EL', model=None, alpha=0.5, size=2.):\n",
    "    x = t[xaxis]\n",
    "    fig, axes = plt.subplots(3, 2, sharex='col', figsize=(9, 6))\n",
    "    pred = {}\n",
    "    for k in M2_KEYS:\n",
    "        if model is not None:\n",
    "            pred[k] = model(k, t['EL'], t['OSSTEMP'])\n",
    "        else:\n",
    "            pred[k] = 0.0\n",
    "    for r in axes:\n",
    "        for a in r:\n",
    "            a.xaxis.grid(linestyle=':')\n",
    "            a.yaxis.grid(linestyle=':')\n",
    "\n",
    "    # first row\n",
    "    axes[0, 0].scatter(x, t['TRANSZ'], color='r', alpha=alpha, s=size)\n",
    "    #axes[0, 0].plot(x, pred['TRANSZ'], color='r', linestyle=':')\n",
    "    axes[0, 1].scatter(x, t['TRANSZ']-pred['TRANSZ'], color='r', alpha=alpha, s=size)\n",
    "    axes[0, 0].set_ylabel(\"Focus (um)\")\n",
    "    axes[0, 0].set_title(\"Data\")\n",
    "    axes[0, 1].set_title(\"Residuals\")\n",
    "    \n",
    "    # second row\n",
    "    axes[1, 0].scatter(x, t['TRANSY'], color='r', alpha=alpha, s=size)\n",
    "    #axes[1, 0].plot(x, pred['TRANSY'], color='r', linestyle=':')\n",
    "    axes[1, 1].scatter(x, t['TRANSY']-pred['TRANSY'], color='r', alpha=alpha, s=size)\n",
    "    axes[1, 0].set_ylabel(\"Y Translation (um)\", color='r')\n",
    "    ax10_twin = axes[1, 0].twinx()\n",
    "    ax10_twin.scatter(x, t['TILTX'], color='b', alpha=alpha, s=size)\n",
    "    #ax10_twin.plot(x, pred['TILTX'], color='b', linestyle=':')\n",
    "    ax11_twin = axes[1, 1].twinx()\n",
    "    ax11_twin.scatter(x, t['TILTX']-pred['TILTX'], color='b', alpha=alpha, s=size)\n",
    "    ax11_twin.set_ylabel(\"X Tilt (arcsec)\", color='b', rotation=270, labelpad=20)\n",
    "    \n",
    "    # third row\n",
    "    axes[2, 0].scatter(x, t['TRANSX'], color='r', alpha=alpha, s=size)\n",
    "    #axes[2, 0].plot(x, pred['TRANSX'], color='r', linestyle=':')\n",
    "    axes[2, 1].scatter(x, t['TRANSX']-pred['TRANSX'], color='r', alpha=alpha, s=size)\n",
    "    axes[2, 0].set_ylabel(\"X Translation (um)\", color='r')\n",
    "    axes[2, 0].set_xlim(20, 90)\n",
    "    axes[2, 1].set_xlim(20, 90)\n",
    "    axes[2, 0].set_xlabel(\"Elevation (deg)\")\n",
    "    axes[2, 1].set_xlabel(\"Elevation (deg)\")\n",
    "    ax20_twin = axes[2, 0].twinx()\n",
    "    ax20_twin.scatter(x, t['TILTY'], color='b', alpha=alpha, s=size)\n",
    "    #ax20_twin.plot(x, pred['TILTY'], color='b', linestyle=':')\n",
    "    ax21_twin = axes[2, 1].twinx()\n",
    "    ax21_twin.scatter(x, t['TILTY']-pred['TILTY'], color='b', alpha=alpha, s=size)\n",
    "    ax21_twin.set_ylabel(\"Y Tilt (arcsec)\", color='b', rotation=270, labelpad=20)\n",
    "    \n",
    "    fig.tight_layout()\n",
    "    fig.subplots_adjust(hspace=0)\n",
    "    plt.show()"
   ]
  },
  {
   "cell_type": "code",
   "execution_count": 3,
   "metadata": {},
   "outputs": [
    {
     "name": "stdout",
     "output_type": "stream",
     "text": [
      "/Volumes/Seagate2TB/wfsdat\n"
     ]
    }
   ],
   "source": [
    "%cd /Volumes/Seagate2TB/wfsdat"
   ]
  },
  {
   "cell_type": "code",
   "execution_count": 4,
   "metadata": {},
   "outputs": [],
   "source": [
    "with open(\"bino_2018.txt\") as f:\n",
    "    bino_files = f.readlines()\n",
    "with open(\"f9wfs_2018.txt\") as f:\n",
    "    f9_files = f.readlines()"
   ]
  },
  {
   "cell_type": "code",
   "execution_count": 5,
   "metadata": {},
   "outputs": [],
   "source": [
    "keys = []\n",
    "for k in HEADER_MAP:\n",
    "    keys.append(HEADER_MAP[k]['fitskey'])"
   ]
  },
  {
   "cell_type": "markdown",
   "metadata": {},
   "source": [
    "Check the wavefront fits and only use the data where the total wavefront RMS is less than 1000 nm. A stricter cutoff of 500 nm was investigated. However, it didn't affect the results much for the Binospec data and cut out a lot of the F/9 data."
   ]
  },
  {
   "cell_type": "code",
   "execution_count": 6,
   "metadata": {},
   "outputs": [],
   "source": [
    "rows = []\n",
    "for f in f9_files:\n",
    "    p = Path(f.strip())\n",
    "    zv = ZernikeVector()\n",
    "    zv.load(str(p))\n",
    "    if zv.rms < 1000.0 * u.nm:\n",
    "        fitsfile = str(p.parent) + \"/\" + p.stem\n",
    "        row = [fitsfile]\n",
    "        hinfo = get_header_info(keys, fitsfile)\n",
    "        row += hinfo\n",
    "        rows.append(row)\n",
    "\n",
    "f9_table = Table(rows=rows, names=[\"filename\"] + keys)"
   ]
  },
  {
   "cell_type": "code",
   "execution_count": 7,
   "metadata": {},
   "outputs": [
    {
     "data": {
      "text/plain": [
       "(1335, 254)"
      ]
     },
     "execution_count": 7,
     "metadata": {},
     "output_type": "execute_result"
    }
   ],
   "source": [
    "rows = []\n",
    "for f in bino_files:\n",
    "    p = Path(f.strip())\n",
    "    zv = ZernikeVector()\n",
    "    zv.load(str(p))\n",
    "    if zv.rms < 1000.0 * u.nm:\n",
    "        fitsfile = str(p.parent) + \"/\" + p.stem\n",
    "        row = [fitsfile]\n",
    "        try:\n",
    "            hinfo = get_header_info(keys, fitsfile)\n",
    "            row += hinfo\n",
    "            rows.append(row)\n",
    "        except:\n",
    "            pass\n",
    "\n",
    "bino_table = Table(rows=rows, names=[\"filename\"] + keys)\n",
    "len(bino_table), len(f9_table)"
   ]
  },
  {
   "cell_type": "markdown",
   "metadata": {},
   "source": [
    "The trends are clear in the February 2018 Binospec data, but there is a **lot** of scatter and some clear systematic shifts. During the Binospec run, fields were observed for extended periods of time with continuous WFS data collected. These \"tracks\" are clearly visible as systematics in both the data and residual plots. Things are moving around during tracks, but they move around a **lot** more between tracks. Need to drill down further into more background logging to see if some sense can be made of the various shifts and trends."
   ]
  },
  {
   "cell_type": "code",
   "execution_count": 8,
   "metadata": {},
   "outputs": [
    {
     "data": {
      "application/vnd.jupyter.widget-view+json": {
       "model_id": "4f1d511482ff4e848f1719d72252dadc",
       "version_major": 2,
       "version_minor": 0
      },
      "text/html": [
       "<p>Failed to display Jupyter Widget of type <code>FigureCanvasNbAgg</code>.</p>\n",
       "<p>\n",
       "  If you're reading this message in the Jupyter Notebook or JupyterLab Notebook, it may mean\n",
       "  that the widgets JavaScript is still loading. If this message persists, it\n",
       "  likely means that the widgets JavaScript library is either not installed or\n",
       "  not enabled. See the <a href=\"https://ipywidgets.readthedocs.io/en/stable/user_install.html\">Jupyter\n",
       "  Widgets Documentation</a> for setup instructions.\n",
       "</p>\n",
       "<p>\n",
       "  If you're reading this message in another frontend (for example, a static\n",
       "  rendering on GitHub or <a href=\"https://nbviewer.jupyter.org/\">NBViewer</a>),\n",
       "  it may mean that your frontend doesn't currently support widgets.\n",
       "</p>\n"
      ],
      "text/plain": [
       "FigureCanvasNbAgg()"
      ]
     },
     "metadata": {},
     "output_type": "display_data"
    }
   ],
   "source": [
    "plot_m2(bino_table, model=bino_model)"
   ]
  },
  {
   "cell_type": "markdown",
   "metadata": {},
   "source": [
    "F/9 data is taken more sporadically so there is a lot less of it. The trends are still clear and well-described by our current model modulo significant shifts in the zeropoints. "
   ]
  },
  {
   "cell_type": "code",
   "execution_count": 9,
   "metadata": {},
   "outputs": [
    {
     "data": {
      "application/vnd.jupyter.widget-view+json": {
       "model_id": "bfcb1d59c6d3457cbb46ba3932922048",
       "version_major": 2,
       "version_minor": 0
      },
      "text/html": [
       "<p>Failed to display Jupyter Widget of type <code>FigureCanvasNbAgg</code>.</p>\n",
       "<p>\n",
       "  If you're reading this message in the Jupyter Notebook or JupyterLab Notebook, it may mean\n",
       "  that the widgets JavaScript is still loading. If this message persists, it\n",
       "  likely means that the widgets JavaScript library is either not installed or\n",
       "  not enabled. See the <a href=\"https://ipywidgets.readthedocs.io/en/stable/user_install.html\">Jupyter\n",
       "  Widgets Documentation</a> for setup instructions.\n",
       "</p>\n",
       "<p>\n",
       "  If you're reading this message in another frontend (for example, a static\n",
       "  rendering on GitHub or <a href=\"https://nbviewer.jupyter.org/\">NBViewer</a>),\n",
       "  it may mean that your frontend doesn't currently support widgets.\n",
       "</p>\n"
      ],
      "text/plain": [
       "FigureCanvasNbAgg()"
      ]
     },
     "metadata": {},
     "output_type": "display_data"
    }
   ],
   "source": [
    "plot_m2(f9_table, model=f9_model, size=5, alpha=0.3)"
   ]
  },
  {
   "cell_type": "code",
   "execution_count": 10,
   "metadata": {},
   "outputs": [],
   "source": [
    "bino_resid = {}\n",
    "for k in M2_KEYS:\n",
    "    bino_resid[k] = bino_table[k] - bino_model(k, bino_table['EL'], bino_table['OSSTEMP'])\n",
    "f9_resid = {}\n",
    "for k in M2_KEYS:\n",
    "    f9_resid[k] = f9_table[k] - f9_model(k, f9_table['EL'], f9_table['OSSTEMP'])"
   ]
  },
  {
   "cell_type": "markdown",
   "metadata": {
    "slideshow": {
     "slide_type": "slide"
    }
   },
   "source": [
    "Look at the median and RMS of the residuals to get the corrections we need to make to the zeropoints. Interesting that the tilt/pointing scatter for F/9 is almost double what it is for F/5..."
   ]
  },
  {
   "cell_type": "code",
   "execution_count": 11,
   "metadata": {},
   "outputs": [
    {
     "name": "stdout",
     "output_type": "stream",
     "text": [
      "Median TRANSX = 234.0942286994154 +/- 187.6580105511664\n",
      "Median TILTY = -4.914114012303656 +/- 11.299941438390457\n",
      "Median TRANSY = 230.65113106706758 +/- 248.69663598121596\n",
      "Median TILTX = 40.55717320212406 +/- 15.491927908032338\n",
      "Median TRANSZ = 495.82390385358485 +/- 104.8485821321308\n"
     ]
    }
   ],
   "source": [
    "for k, v in bino_resid.items():\n",
    "    print(f\"Median {k} = {np.median(v)} +/- {np.std(v)}\")"
   ]
  },
  {
   "cell_type": "code",
   "execution_count": 12,
   "metadata": {},
   "outputs": [
    {
     "name": "stdout",
     "output_type": "stream",
     "text": [
      "Median TRANSX = -928.7612766156183 +/- 152.72576718536803\n",
      "Median TILTY = 85.38256202627947 +/- 21.211732506427104\n",
      "Median TRANSY = 1199.4478549946652 +/- 190.6215173377244\n",
      "Median TILTX = 143.2394296707828 +/- 26.488105138024576\n",
      "Median TRANSZ = 202.33748705277566 +/- 116.01985033235292\n"
     ]
    }
   ],
   "source": [
    "for k, v in f9_resid.items():\n",
    "    print(f\"Median {k} = {np.median(v)} +/- {np.std(v)}\")"
   ]
  },
  {
   "cell_type": "markdown",
   "metadata": {},
   "source": [
    "An interesting trend that i found is that the Y-axis (left/right) tilt residuals in the Binospec data show a clear trend with azimuth. This appears to imply that there is a systematic error in the mount's pointing model that is being compensated for with the M2 hexapod. "
   ]
  },
  {
   "cell_type": "code",
   "execution_count": 13,
   "metadata": {},
   "outputs": [
    {
     "data": {
      "application/vnd.jupyter.widget-view+json": {
       "model_id": "559114c45fa942ac91000a313eddf006",
       "version_major": 2,
       "version_minor": 0
      },
      "text/html": [
       "<p>Failed to display Jupyter Widget of type <code>FigureCanvasNbAgg</code>.</p>\n",
       "<p>\n",
       "  If you're reading this message in the Jupyter Notebook or JupyterLab Notebook, it may mean\n",
       "  that the widgets JavaScript is still loading. If this message persists, it\n",
       "  likely means that the widgets JavaScript library is either not installed or\n",
       "  not enabled. See the <a href=\"https://ipywidgets.readthedocs.io/en/stable/user_install.html\">Jupyter\n",
       "  Widgets Documentation</a> for setup instructions.\n",
       "</p>\n",
       "<p>\n",
       "  If you're reading this message in another frontend (for example, a static\n",
       "  rendering on GitHub or <a href=\"https://nbviewer.jupyter.org/\">NBViewer</a>),\n",
       "  it may mean that your frontend doesn't currently support widgets.\n",
       "</p>\n"
      ],
      "text/plain": [
       "FigureCanvasNbAgg()"
      ]
     },
     "metadata": {},
     "output_type": "display_data"
    }
   ],
   "source": [
    "az = bino_table['AZ']\n",
    "az[az < 0] += 360.\n",
    "fig = plt.scatter(az, bino_resid['TILTY'])\n",
    "fig.axes.set_xlabel(\"Azimuth (deg)\")\n",
    "fig.axes.set_ylabel(\"Y Tilt (arcsec)\")\n",
    "plt.show()"
   ]
  },
  {
   "cell_type": "markdown",
   "metadata": {},
   "source": [
    "The trend is not clear in the F/9 data since there is significantly more scatter, but not ruled out, either."
   ]
  },
  {
   "cell_type": "code",
   "execution_count": 14,
   "metadata": {},
   "outputs": [
    {
     "data": {
      "application/vnd.jupyter.widget-view+json": {
       "model_id": "8f96fad995604713886a8bbcce6b8cf9",
       "version_major": 2,
       "version_minor": 0
      },
      "text/html": [
       "<p>Failed to display Jupyter Widget of type <code>FigureCanvasNbAgg</code>.</p>\n",
       "<p>\n",
       "  If you're reading this message in the Jupyter Notebook or JupyterLab Notebook, it may mean\n",
       "  that the widgets JavaScript is still loading. If this message persists, it\n",
       "  likely means that the widgets JavaScript library is either not installed or\n",
       "  not enabled. See the <a href=\"https://ipywidgets.readthedocs.io/en/stable/user_install.html\">Jupyter\n",
       "  Widgets Documentation</a> for setup instructions.\n",
       "</p>\n",
       "<p>\n",
       "  If you're reading this message in another frontend (for example, a static\n",
       "  rendering on GitHub or <a href=\"https://nbviewer.jupyter.org/\">NBViewer</a>),\n",
       "  it may mean that your frontend doesn't currently support widgets.\n",
       "</p>\n"
      ],
      "text/plain": [
       "FigureCanvasNbAgg()"
      ]
     },
     "metadata": {},
     "output_type": "display_data"
    }
   ],
   "source": [
    "f9_az = f9_table['AZ']\n",
    "f9_az[f9_az < 0] += 360.\n",
    "fig = plt.scatter(f9_az, f9_resid['TILTY'])\n",
    "fig.axes.set_xlabel(\"Azimuth (deg)\")\n",
    "fig.axes.set_ylabel(\"Y Tilt (arcsec)\")\n",
    "plt.show()"
   ]
  },
  {
   "cell_type": "code",
   "execution_count": null,
   "metadata": {},
   "outputs": [],
   "source": []
  }
 ],
 "metadata": {
  "kernelspec": {
   "display_name": "Python 3",
   "language": "python",
   "name": "python3"
  },
  "language_info": {
   "codemirror_mode": {
    "name": "ipython",
    "version": 3
   },
   "file_extension": ".py",
   "mimetype": "text/x-python",
   "name": "python",
   "nbconvert_exporter": "python",
   "pygments_lexer": "ipython3",
   "version": "3.6.4"
  }
 },
 "nbformat": 4,
 "nbformat_minor": 2
}
